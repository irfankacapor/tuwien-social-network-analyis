{
 "cells": [
  {
   "cell_type": "markdown",
   "id": "b822be21",
   "metadata": {},
   "source": [
    "\n",
    "# Categorical Homophily and Degree-Based Analysis\n",
    "\n",
    "This notebook performs two key analyses:\n",
    "1. **Categorical Homophily Analysis**: Examines the tendency of nodes (users) to form connections based on shared categorical attributes, such as group affiliation.\n",
    "2. **Degree-Based Assortativity Analysis**: Evaluates whether nodes with similar degrees (number of connections) are more likely to connect.\n",
    "\n",
    "## Dataset Overview\n",
    "The analyses are conducted using two datasets from the online platform `derStandard.at`:\n",
    "- **Votes Data**: Represents undirected interactions between users based on shared voting behavior.\n",
    "- **Replies Data**: Represents undirected interactions between users based on replies.\n",
    "\n",
    "## Objectives\n",
    "1. **Categorical Homophily**:\n",
    "   - Identify intra-group connections.\n",
    "   - Compute modularity to measure clustering by categories.\n",
    "2. **Degree-Based Assortativity**:\n",
    "   - Compute the degree assortativity coefficient.\n",
    "   - Interpret the patterns of connectivity based on node degree.\n",
    "\n",
    "Each step is explained in detail, with results and interpretations provided.\n"
   ]
  },
  {
   "cell_type": "markdown",
   "id": "f651cc48",
   "metadata": {},
   "source": [
    "\n",
    "## Categorical Homophily Analysis\n",
    "\n",
    "This section analyzes whether users tend to connect with others who share a similar categorical attribute. \n",
    "For demonstration purposes, synthetic categories (`A` and `B`) are assigned to the nodes in the absence of real metadata.\n",
    "\n",
    "### Steps:\n",
    "1. Load the dataset containing user interactions based on shared voting behavior.\n",
    "2. Create an undirected graph with weights representing the interaction strength.\n",
    "3. Assign random synthetic categories to nodes.\n",
    "4. Calculate:\n",
    "   - The number of intra-group edges.\n",
    "   - Modularity to measure clustering by categories.\n",
    "5. Interpret results and compare with a random baseline.\n"
   ]
  },
  {
   "cell_type": "code",
   "execution_count": 3,
   "id": "0c43bcef",
   "metadata": {},
   "outputs": [
    {
     "name": "stdout",
     "output_type": "stream",
     "text": [
      "Number of intra-group edges: 7091396\n",
      "Modularity (Q): -0.0004246397518191114\n"
     ]
    }
   ],
   "source": [
    "\n",
    "import pandas as pd\n",
    "import networkx as nx\n",
    "import random\n",
    "\n",
    "# Load the dataset for categorical homophily analysis\n",
    "votes_df = pd.read_parquet(\n",
    "    \"./df_edge_list_undirected_users_votes_to_same_postings_net.parquet\"\n",
    ")\n",
    "\n",
    "# Create an undirected graph\n",
    "G_votes = nx.Graph()\n",
    "G_votes.add_weighted_edges_from(\n",
    "    votes_df[\n",
    "        [\"ID_CommunityIdentity_min\", \"ID_CommunityIdentity_max\", \"count_votes_to_same_posting_net\"]\n",
    "    ].itertuples(index=False, name=None)\n",
    ")\n",
    "\n",
    "# Assign random categories to nodes\n",
    "categories = [\"A\", \"B\"]\n",
    "node_categories = {node: random.choice(categories) for node in G_votes.nodes()}\n",
    "nx.set_node_attributes(G_votes, node_categories, \"category\")\n",
    "\n",
    "# Calculate the number of intra-group edges\n",
    "intra_group_edges = sum(\n",
    "    1\n",
    "    for u, v in G_votes.edges()\n",
    "    if G_votes.nodes[u][\"category\"] == G_votes.nodes[v][\"category\"]\n",
    ")\n",
    "\n",
    "# Calculate modularity\n",
    "modularity = nx.algorithms.community.quality.modularity(\n",
    "    G_votes, [[n for n in G_votes.nodes if G_votes.nodes[n][\"category\"] == c] for c in categories]\n",
    ")\n",
    "\n",
    "# Display results\n",
    "print(f\"Number of intra-group edges: {intra_group_edges}\")\n",
    "print(f\"Modularity (Q): {modularity}\")\n"
   ]
  },
  {
   "cell_type": "markdown",
   "id": "33281a6b",
   "metadata": {},
   "source": [
    "\n",
    "### Results Interpretation\n",
    "\n",
    "1. **Intra-Group Edges**:\n",
    "   - The number of edges connecting nodes of the same category indicates the extent of homophily.\n",
    "   - A higher count suggests stronger within-group connectivity.\n",
    "\n",
    "2. **Modularity (Q)**:\n",
    "   - Positive modularity values indicate significant clustering based on the assigned categories.\n",
    "   - Values close to 0 suggest no preference for within-group connections.\n",
    "   - Negative values would indicate disassortative mixing (unlikely in this scenario).\n",
    "\n",
    "The results are compared with a random baseline to understand whether the observed patterns deviate from randomness.\n"
   ]
  },
  {
   "cell_type": "markdown",
   "id": "bd4b7460",
   "metadata": {},
   "source": [
    "\n",
    "## Degree-Based Assortativity Analysis\n",
    "\n",
    "This section evaluates whether users with similar degrees (number of connections) are more likely to interact.\n",
    "\n",
    "### Steps:\n",
    "1. Load the dataset containing user interactions based on replies.\n",
    "2. Create an undirected graph where edge weights represent the reply count.\n",
    "3. Compute:\n",
    "   - Degree assortativity coefficient to measure the correlation of node degrees across edges.\n",
    "4. Interpret the results to determine whether the network exhibits assortative or disassortative mixing.\n"
   ]
  },
  {
   "cell_type": "code",
   "execution_count": null,
   "id": "b475c4ac",
   "metadata": {},
   "outputs": [],
   "source": [
    "\n",
    "# Load the dataset for degree-based analysis\n",
    "replies_df = pd.read_parquet(\n",
    "    \"./shared/194.050-2024W/Data/Group_Project/df_edge_list_undirected_users_postings_replies.parquet\"\n",
    ")\n",
    "\n",
    "# Create an undirected graph\n",
    "G_replies = nx.Graph()\n",
    "G_replies.add_weighted_edges_from(\n",
    "    replies_df[\n",
    "        [\"ID_CommunityIdentity_min\", \"ID_CommunityIdentity_max\", \"count_posting_replies\"]\n",
    "    ].itertuples(index=False, name=None)\n",
    ")\n",
    "\n",
    "# Compute the degree assortativity coefficient\n",
    "degree_assortativity = nx.degree_assortativity_coefficient(G_replies, weight=\"weight\")\n",
    "\n",
    "# Display results\n",
    "print(f\"Degree assortativity coefficient: {degree_assortativity}\")\n",
    "\n",
    "# Interpret the coefficient\n",
    "if degree_assortativity > 0:\n",
    "    print(\"The network exhibits assortative mixing: nodes with similar degrees are more likely to connect.\")\n",
    "elif degree_assortativity < 0:\n",
    "    print(\"The network exhibits disassortative mixing: nodes with dissimilar degrees are more likely to connect.\")\n",
    "else:\n",
    "    print(\"The network does not show a clear preference for assortative or disassortative mixing.\")\n"
   ]
  }
 ],
 "metadata": {
  "kernelspec": {
   "display_name": "venv",
   "language": "python",
   "name": "python3"
  },
  "language_info": {
   "codemirror_mode": {
    "name": "ipython",
    "version": 3
   },
   "file_extension": ".py",
   "mimetype": "text/x-python",
   "name": "python",
   "nbconvert_exporter": "python",
   "pygments_lexer": "ipython3",
   "version": "3.10.16"
  }
 },
 "nbformat": 4,
 "nbformat_minor": 5
}
